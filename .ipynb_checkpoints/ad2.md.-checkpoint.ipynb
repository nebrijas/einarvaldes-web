{
 "cells": [
  {
   "cell_type": "markdown",
   "id": "1efc49bd",
   "metadata": {},
   "source": [
    "# Actividad Dirigida 2"
   ]
  },
  {
   "cell_type": "markdown",
   "id": "d5f78857",
   "metadata": {},
   "source": [
    "La actividad dirigida que desarrollamos a continuación consisten en explicar el proceso realizado para el cambio de **README.md** a la _Actividad dirigida 1_ (ad1.md). Detallamos el proceso a continuación."
   ]
  },
  {
   "cell_type": "markdown",
   "id": "44218cd3",
   "metadata": {},
   "source": [
    "1. Convertir los archivos de **Markdown** a formato **HTML**. Para conseguirlo se siguen estos pasos:\n",
    "- Acceder a [https://github.com/nebrijas/einarvaldes-web/settings/pages](https://github.com/nebrijas/einarvaldes-web/settings/pages) (se aplica para cualquier repositorio, solo cambia el nombre de la cuenta).\n",
    "- Seleccionar en _Source_ en la opción 1: _main_ y en la opción 2: _root_. De este modo ya está convertido el directorio raíz en **HTML**."
   ]
  },
  {
   "cell_type": "markdown",
   "id": "26adfe4a",
   "metadata": {},
   "source": [
    "2. Luego crear un nuevo archivo desde la web (con _Add file_) nombrándolo como ad2.md, que es este documento que trabajamos, precisamente."
   ]
  },
  {
   "cell_type": "markdown",
   "id": "20e168fb",
   "metadata": {},
   "source": [
    "3. Descargar [Git Bash](https://git-scm.com/downloads) y abrir el programa para acceder a la terminal.\n"
   ]
  },
  {
   "cell_type": "markdown",
   "id": "db9203b8",
   "metadata": {},
   "source": [
    "4. Colocamos _pwd_ y damos _enter_ para verificar en que directorio estamos."
   ]
  },
  {
   "cell_type": "markdown",
   "id": "c223b9a3",
   "metadata": {},
   "source": [
    "5. Clonamos el directorio del repositorio a través del comando _git clone_, damos _enter_."
   ]
  },
  {
   "cell_type": "markdown",
   "id": "8080a402",
   "metadata": {},
   "source": [
    "6. Ya debemos tener la carpeta creada en nuestro directorio. Se puede ver con ***ls*** (y enter)."
   ]
  },
  {
   "cell_type": "markdown",
   "id": "39a5857c",
   "metadata": {},
   "source": [
    "7. Accedemos a dicha carpeta con cd y el nombre de la carpeta, en este caso **cd einarvaldes-web** y damos _enter_."
   ]
  },
  {
   "cell_type": "markdown",
   "id": "6c81e031",
   "metadata": {},
   "source": [
    "8. Podemos usar _ls_ y _enter_ para ver el contenido que se encuentra en su interior."
   ]
  },
  {
   "cell_type": "markdown",
   "id": "80bb74e9",
   "metadata": {},
   "source": [
    "9. Escribimos **git config user.name** seguido de nuestro nombre de usuario de [***GitHub***](https://github.com/) y damos _enter_. Para mi cuenta sería **git config user.name einarvaldes**."
   ]
  },
  {
   "cell_type": "markdown",
   "id": "0100efd4",
   "metadata": {},
   "source": [
    "10. Escribimos **git config user.email** seguido del correo que se utiliza en [***GitHub***](https://github.com/) y damos _enter_. En mi caso **git config user.email einarvaldes@hotmail.com**."
   ]
  },
  {
   "cell_type": "markdown",
   "id": "0d7d7937",
   "metadata": {},
   "source": [
    "11. En nuestro navegador vamos a la web: [https://github.com/settings/tokens](https://github.com/settings/tokens)"
   ]
  },
  {
   "cell_type": "markdown",
   "id": "3b7ab5aa",
   "metadata": {},
   "source": [
    "12. Seleccionamos la opción **\"Generate new token\"**, colocamos el nombre que queremos en _Note_ (por ejemplo, pd2). En _expiration_ le marcamos la fecha. Seleccionamos 60 días para que dure hasta el final del curso. En _select scopes_ seleccionamos **\"Repo\"** (para que se activen todas las casillas de repo). Las demás casillas se dejan sin seleccionar. Posteriormente le damos a **\"Generar token\"**."
   ]
  },
  {
   "cell_type": "markdown",
   "id": "6ab9b262",
   "metadata": {},
   "source": [
    "13. Copiamos el _token_ creado."
   ]
  },
  {
   "cell_type": "markdown",
   "id": "62a53dc9",
   "metadata": {},
   "source": [
    "14. Volvemos a **Git Bash** y escribimos _echo > ../.token_ para añadir un archivo oculto en la carpeta superior del árbol con el _token_ que acabamos de copiar impreso."
   ]
  },
  {
   "cell_type": "markdown",
   "id": "b5eeeabf",
   "metadata": {},
   "source": [
    "15. Se escribe **README.md ad1.md** y damos _enter_ para copiar el contenido de **README.md** a una nueva carpeta de nombre **ad1.md**."
   ]
  },
  {
   "cell_type": "markdown",
   "id": "24368b67",
   "metadata": {},
   "source": [
    "16. Escribimos **nano README.md** y damos _enter_. Se abre el espacio de **nano** para editar el archivo poniéndole un título y dos enlaces, uno a **ad1.md** y otro a este directorio **(ad2.md)**. Dentro de dicho espacio aparece la ayuda para realizar los cambios. Por ejemplo, para salir sería **CTRL+X** (el símbolo **^** se refiere a la tecla _control_)."
   ]
  },
  {
   "cell_type": "markdown",
   "id": "56423886",
   "metadata": {},
   "source": [
    "17. Escribimos **git status** y damos _enter_. Para ver las modificaciones realizadas."
   ]
  },
  {
   "cell_type": "markdown",
   "id": "e37bf974",
   "metadata": {},
   "source": [
    "18.  para que _online_ esté disponible hay que escribir **git add** seguido del nombre de la carpeta y dar _enter_. En este caso el texto sería **git add README.md ad1.md**. Se pueden incluir varios elementos en conjunto."
   ]
  },
  {
   "cell_type": "markdown",
   "id": "488e01f7",
   "metadata": {},
   "source": [
    "19. Escribimos **git push** y damos _enter_ para guardar el contenido en ***GitHub***."
   ]
  },
  {
   "cell_type": "markdown",
   "id": "5c0ba131",
   "metadata": {},
   "source": [
    "20. Comprobamos que ahora ya aparece la nueva carpeta _online_."
   ]
  },
  {
   "cell_type": "markdown",
   "id": "2cf48251",
   "metadata": {},
   "source": [
    "Estos son los paso básicos aplicados para ejecutar la segunda actividad dirigida."
   ]
  },
  {
   "cell_type": "code",
   "execution_count": null,
   "id": "e444d3e8",
   "metadata": {},
   "outputs": [],
   "source": []
  },
  {
   "cell_type": "code",
   "execution_count": null,
   "id": "e099debe",
   "metadata": {},
   "outputs": [],
   "source": []
  }
 ],
 "metadata": {
  "kernelspec": {
   "display_name": "Python 3 (ipykernel)",
   "language": "python",
   "name": "python3"
  },
  "language_info": {
   "codemirror_mode": {
    "name": "ipython",
    "version": 3
   },
   "file_extension": ".py",
   "mimetype": "text/x-python",
   "name": "python",
   "nbconvert_exporter": "python",
   "pygments_lexer": "ipython3",
   "version": "3.9.12"
  }
 },
 "nbformat": 4,
 "nbformat_minor": 5
}
